{
 "cells": [
  {
   "cell_type": "markdown",
   "metadata": {},
   "source": [
    "The goal of this notebook is to understand (and hopefully reconcile) differences between the CLM definition of SMB (\"QICE\") and the CISM definition (\"smb\" or \"acab\"). "
   ]
  },
  {
   "cell_type": "code",
   "execution_count": 1,
   "metadata": {},
   "outputs": [],
   "source": [
    "import numpy as np\n",
    "import math\n",
    "import sys,os\n",
    "import xarray as xr\n",
    "\n",
    "from netCDF4 import Dataset, default_fillvals\n",
    "from datetime import datetime\n"
   ]
  },
  {
   "cell_type": "code",
   "execution_count": 2,
   "metadata": {},
   "outputs": [],
   "source": [
    "import matplotlib.pyplot as plt"
   ]
  },
  {
   "cell_type": "markdown",
   "metadata": {},
   "source": [
    "# Setup"
   ]
  },
  {
   "cell_type": "code",
   "execution_count": 3,
   "metadata": {},
   "outputs": [],
   "source": [
    "# Leo's common python files\n",
    "sys.path.insert(0,'/glade/u/home/lvank/analysis/cesm2_cmip/libpycesm')\n",
    "\n",
    "# IPython extension to reload modules before executing user code.\n",
    "# https://ipython.org/ipython-doc/3/config/extensions/autoreload.html\n",
    "%load_ext autoreload\n",
    "\n",
    "%aimport libtimeseries \n",
    "%aimport libplot\n",
    "\n",
    "# Reload all modules imported with %aimport every time before executing the Python code typed.\n",
    "%autoreload 1"
   ]
  },
  {
   "cell_type": "markdown",
   "metadata": {},
   "source": [
    "## GrIS ice extent in CLM"
   ]
  },
  {
   "cell_type": "markdown",
   "metadata": {},
   "source": [
    "Ice extent is computed by combining `PCT_LANDUNIT(3)` and `ICE_MODEL_FRACTION`. \n",
    "We're using a restart file from a 1-day dedicated run to output non-default variable `ICE_MODEL_FRACTION`"
   ]
  },
  {
   "cell_type": "code",
   "execution_count": 4,
   "metadata": {},
   "outputs": [],
   "source": [
    "\n",
    "filename = \"/glade/u/home/lvank/work/projects/reconcile_smb/b.e21.BHIST.f09_g17.CMIP6-historical.001_normF.clm2.h0.1850-01-01-00000.nc\"\n",
    "#filename = \"/gpfs/fs1/work/lvank/masks/cesm2_fv1/b.e21.BHIST.f09_g17.CMIP6-historical.001_LvK.clm2.h0.1850-01-01-00000.nc\"\n",
    "\n",
    "with xr.open_dataset(filename) as ds:\n",
    "    imf = ds['ICE_MODEL_FRACTION'][0,:,:].load()\n",
    "    plu = ds['PCT_LANDUNIT'][0,3,:,:].load()\n",
    "    lf = ds['landfrac']\n",
    "    area = ds['area']\n"
   ]
  },
  {
   "cell_type": "code",
   "execution_count": 5,
   "metadata": {},
   "outputs": [],
   "source": [
    "# min_lf = min(lf, imf) \n",
    "min_lf = xr.where(lf<imf, lf, imf)"
   ]
  },
  {
   "cell_type": "code",
   "execution_count": 6,
   "metadata": {},
   "outputs": [],
   "source": [
    "cmask_gis = min_lf * plu * 0.01 \n",
    "#cmask_gis = imf * plu * 0.01 "
   ]
  },
  {
   "cell_type": "code",
   "execution_count": 7,
   "metadata": {},
   "outputs": [
    {
     "data": {
      "text/plain": [
       "1798698.75"
      ]
     },
     "execution_count": 7,
     "metadata": {},
     "output_type": "execute_result"
    }
   ],
   "source": [
    "#cmask_gis.plot()\n",
    "mma = cmask_gis * area\n",
    "mma.sum().item()"
   ]
  },
  {
   "cell_type": "markdown",
   "metadata": {},
   "source": [
    "### FV2 "
   ]
  },
  {
   "cell_type": "code",
   "execution_count": 8,
   "metadata": {},
   "outputs": [
    {
     "name": "stdout",
     "output_type": "stream",
     "text": [
      "1812205.25\n",
      "min(lf, imf) 1800681.5\n"
     ]
    }
   ],
   "source": [
    "filename = \"/glade/u/home/lvank/work/masks/cesm2_fv2/all.nc\"\n",
    "\n",
    "def print_fv2_area():\n",
    "    \"\"\"\n",
    "    made this a function so that we can reuse the variable names without overwriting them in the body\n",
    "    \"\"\"    \n",
    "    with xr.open_dataset(filename) as ds:\n",
    "        imf = ds['ICE_MODEL_FRACTION'][0,:,:].load()\n",
    "        plu = ds['PCT_LANDUNIT'][0,3,:,:].load()\n",
    "        lf = ds['landfrac']\n",
    "        area = ds['area'] \n",
    "    \n",
    "    cmask_gis = imf * plu * 0.01 \n",
    "    mma = cmask_gis * area\n",
    "    print(mma.sum().item())\n",
    "    \n",
    "    min_lf = xr.where(lf<imf, lf, imf)\n",
    "    cmask_gis = min_lf * plu * 0.01 \n",
    "    mma = cmask_gis * area\n",
    "    print('min(lf, imf)', mma.sum().item())\n",
    "    \n",
    "print_fv2_area()"
   ]
  },
  {
   "cell_type": "markdown",
   "metadata": {},
   "source": [
    "## GrIS ice extent in coupler"
   ]
  },
  {
   "cell_type": "markdown",
   "metadata": {},
   "source": [
    "Using coupler output from a decicated run in which we set `do_histinit = .true.` in the coupler namelist. This generated an extra initial coupler history file. http://www.cesm.ucar.edu/models/cesm2/settings/current/drv_nml.html"
   ]
  },
  {
   "cell_type": "code",
   "execution_count": 26,
   "metadata": {},
   "outputs": [
    {
     "data": {
      "text/plain": [
       "((704, 416), (704, 416), (704, 416))"
      ]
     },
     "execution_count": 26,
     "metadata": {},
     "output_type": "execute_result"
    }
   ],
   "source": [
    "#   g2x_nx = 416 ;\n",
    "#   g2x_ny = 704 ;\n",
    "#   double g2x_Sg_icemask(time, g2x_ny, g2x_nx) ;\n",
    "#   double g2x_Sg_icemask_coupled_fluxes(time, g2x_ny, g2x_nx) ;\n",
    "\n",
    "filename = \"/glade/u/home/lvank/work/projects/reconcile_smb/b.e21.BHIST.f09_g17.CMIP6-historical.001_normF.cpl.hi.1850-01-01-00000.nc\"\n",
    "\n",
    "with xr.open_dataset(filename) as ds:\n",
    "\n",
    "    #foo = ds.g2x_Sg_icemask_coupled_fluxes[0]\n",
    "    bar = ds.g2x_Sg_icemask[0]\n",
    "    ic = ds.g2x_Sg_ice_covered[0]\n",
    "    \n",
    "    # Cell area from model\n",
    "    glc_area1 = ds.domg_area.squeeze()\n",
    "    lnd_area1 = ds.doml_area.squeeze()\n",
    "    \n",
    "    # cell area from mapping file\n",
    "    glc_area2 = ds.domg_aream.squeeze()\n",
    "    lnd_area2 = ds.doml_aream.squeeze()\n",
    "\n",
    "\n",
    "ic.shape, glc_area1.shape, glc_area2.shape"
   ]
  },
  {
   "cell_type": "code",
   "execution_count": 27,
   "metadata": {},
   "outputs": [
    {
     "data": {
      "text/plain": [
       "<matplotlib.collections.QuadMesh at 0x2ba444849e80>"
      ]
     },
     "execution_count": 27,
     "metadata": {},
     "output_type": "execute_result"
    },
    {
     "data": {
      "image/png": "[encoded data removed]",
      "text/plain": [
       "<Figure size 432x288 with 2 Axes>"
      ]
     },
     "metadata": {
      "needs_background": "light"
     },
     "output_type": "display_data"
    }
   ],
   "source": [
    "bar.plot()"
   ]
  },
  {
   "cell_type": "code",
   "execution_count": 10,
   "metadata": {},
   "outputs": [],
   "source": [
    "def area_rad_to_km(area_rad):\n",
    "    \"\"\"\n",
    "    convert area in rad^2 to km^2\n",
    "    \"\"\"\n",
    "    #r_earth = 6371 # radius of earth\n",
    "    r_earth = 6.37122e3 # SHR_CONST_REARTH, in km \n",
    "    circ = 2*np.pi*r_earth\n",
    "\n",
    "    foo = xr.ufuncs.sqrt(area_rad.copy())\n",
    "#    foo /= (2*np.pi)\n",
    "#    foo *= circ\n",
    "    foo *= r_earth\n",
    "    area_km = foo**2\n",
    "    return area_km"
   ]
  },
  {
   "cell_type": "code",
   "execution_count": 11,
   "metadata": {},
   "outputs": [
    {
     "data": {
      "text/plain": [
       "16.0"
      ]
     },
     "execution_count": 11,
     "metadata": {},
     "output_type": "execute_result"
    }
   ],
   "source": [
    "glc_area_km1 = area_rad_to_km(glc_area1)\n",
    "glc_area_km2 = area_rad_to_km(glc_area2)\n",
    "\n",
    "#glc_area_km1.plot()\n",
    "glc_area_km1[10,10].item()"
   ]
  },
  {
   "cell_type": "code",
   "execution_count": 12,
   "metadata": {},
   "outputs": [
    {
     "name": "stdout",
     "output_type": "stream",
     "text": [
      "constant cell area 16.0  1805616.0\n",
      "CPL model area 1805616.0\n",
      "CPL mapping area 1812254.1880229723\n"
     ]
    }
   ],
   "source": [
    "print(\"constant cell area 16.0 \", ic.sum().item() * 16.)\n",
    "print(\"CPL model area\", (ic.values * glc_area_km1.values).sum().item() )\n",
    "print(\"CPL mapping area\", (ic.values * glc_area_km2.values).sum().item() )"
   ]
  },
  {
   "cell_type": "markdown",
   "metadata": {},
   "source": [
    "Now we will inspect the LND area from the coupler file"
   ]
  },
  {
   "cell_type": "code",
   "execution_count": 13,
   "metadata": {},
   "outputs": [
    {
     "data": {
      "text/plain": [
       "2.710505431213761e-20"
      ]
     },
     "execution_count": 13,
     "metadata": {},
     "output_type": "execute_result"
    }
   ],
   "source": [
    "# doml_area == doml_aream\n",
    "diff = lnd_area1-lnd_area2\n",
    "diff.max().item()"
   ]
  },
  {
   "cell_type": "markdown",
   "metadata": {},
   "source": [
    "## Comparing year 1850 SMB from CISM to that of CLM , to see how large of an effect the slightly larger ice extend in CLM has"
   ]
  },
  {
   "cell_type": "markdown",
   "metadata": {},
   "source": [
    "The FV1 ice extent in CLM as calculated by `ICE_MODEL_FRACTION * PCT_LANDUNIT(4) * 0.01` was previous stored in variable `mma` which is compared to the CISM extent"
   ]
  },
  {
   "cell_type": "code",
   "execution_count": 14,
   "metadata": {},
   "outputs": [
    {
     "data": {
      "text/plain": [
       "0.9961690359411968"
      ]
     },
     "execution_count": 14,
     "metadata": {},
     "output_type": "execute_result"
    }
   ],
   "source": [
    "mma.sum().item() / (ic.sum().item() * 16.)"
   ]
  },
  {
   "cell_type": "markdown",
   "metadata": {},
   "source": [
    "i.e. CLM extent is about 0,3 % larger than the CISM extent.\n",
    "\n",
    "We now consider SMB in the first year from the CMIP6 historical run 001 and compare between CLM and CISM"
   ]
  },
  {
   "cell_type": "code",
   "execution_count": 15,
   "metadata": {},
   "outputs": [],
   "source": [
    "iyear = 1\n",
    "\n",
    "\n",
    "def get_clm_smb_from_timeseries(iyear, casename='b.e21.BHIST.f09_g17.CMIP6-historical.001', ys=1850, ye=2014):\n",
    "    filename = \"/glade/collections/cdg/timeseries-cmip6/{casename}/lnd/proc/tseries/month_1/{casename}.clm2.h0.QICE.{ys}01-{ye}12.nc\".format(casename=casename, ys=ys, ye=ye)\n",
    "    with xr.open_dataset(filename) as ds:\n",
    "        tmp = ds.QICE[iyear*12:(iyear*12+12)] \n",
    "\n",
    "    # convert monthly CLM smb to yearly value\n",
    "    dpm = np.asarray(( 31, 28, 31, 30, 31, 30, 31, 31, 30, 31, 30, 31))\n",
    "    smb1850_clm = (tmp[0:12] * dpm[:,np.newaxis,np.newaxis]).sum(dim='time') / 365.\n",
    "        \n",
    "    # convert mm/s to mm/year\n",
    "    sec_in_year = 365 * 86400.\n",
    "    smb1850_clm *= sec_in_year\n",
    "\n",
    "    assert(len(smb1850_clm.dims)==2)\n",
    "    return smb1850_clm\n",
    "\n",
    "\n",
    "\n",
    "def get_cism_smb_from_timeseries(iyear, casename='b.e21.BHIST.f09_g17.CMIP6-historical.001', ys=1851, ye=2015):\n",
    "    # CISM \n",
    "    filename = \"/glade/collections/cdg/timeseries-cmip6/{casename}/glc/proc/tseries/year_1/{casename}.cism.h.smb.{ys}-{ye}.nc\".format(casename=casename,ys=ys, ye=ye)\n",
    "    with xr.open_dataset(filename, decode_times=False) as ds:\n",
    "        smb1850_cism = ds.smb[iyear]\n",
    "    assert(len(smb1850_cism.dims)==2)\n",
    "    return smb1850_cism"
   ]
  },
  {
   "cell_type": "code",
   "execution_count": 16,
   "metadata": {},
   "outputs": [
    {
     "data": {
      "text/plain": [
       "<matplotlib.contour.QuadContourSet at 0x2ba44472e4e0>"
      ]
     },
     "execution_count": 16,
     "metadata": {},
     "output_type": "execute_result"
    },
    {
     "data": {
      "image/png": "[encoded data removed]",
      "text/plain": [
       "<Figure size 504x504 with 2 Axes>"
      ]
     },
     "metadata": {
      "needs_background": "light"
     },
     "output_type": "display_data"
    }
   ],
   "source": [
    "iyear = 0\n",
    "\n",
    "smb1850_clm = get_clm_smb_from_timeseries(iyear)\n",
    "import cartopy.crs as ccrs\n",
    "\n",
    "fig = plt.figure(figsize=(7,7));\n",
    "ax = libplot.define_greenland_map(fig)\n",
    "#ax = plt.axes(projection=ccrs.PlateCarree());\n",
    "smb1850_clm.plot.contourf('lon', 'lat', ax=ax, transform=ccrs.PlateCarree(), vmin=-2000, vmax=2000,)"
   ]
  },
  {
   "cell_type": "code",
   "execution_count": 17,
   "metadata": {},
   "outputs": [],
   "source": [
    "# some constants\n",
    "rhoi= 0.917e3\n",
    "rhow= 1.000e3\n",
    "\n",
    "fac_Gt = 1e-12\n",
    "fac_km2 = 1e6"
   ]
  },
  {
   "cell_type": "code",
   "execution_count": 18,
   "metadata": {},
   "outputs": [
    {
     "name": "stdout",
     "output_type": "stream",
     "text": [
      "GrIS area 1798698.75\n",
      "0 CLM smb 501.2310754432559\n",
      "1 CLM smb 508.61873368284654\n",
      "2 CLM smb 476.0221137047888\n",
      "3 CLM smb 596.4661048133432\n",
      "4 CLM smb 770.9515326362691\n",
      "5 CLM smb 581.1778425400746\n",
      "6 CLM smb 646.525686257838\n",
      "7 CLM smb 641.9774422959925\n",
      "8 CLM smb 438.5355320278332\n",
      "9 CLM smb 397.1627347240524\n"
     ]
    }
   ],
   "source": [
    "print('GrIS area', (mma).sum().item() )\n",
    "\n",
    "nyear = 10\n",
    "ismb_clm = np.zeros(nyear)\n",
    "ismb_cism = np.zeros(nyear)\n",
    "\n",
    "for iyear in range(10):\n",
    "    smb1850_clm = get_clm_smb_from_timeseries(iyear)\n",
    "    fac = fac_Gt * fac_km2 # mm/yr w.e. to Gt / yr\n",
    "    ismb_clm[iyear] = (smb1850_clm * mma).sum(dim=('lon','lat')).values * fac\n",
    "    print(iyear, 'CLM smb', ismb_clm[iyear])"
   ]
  },
  {
   "cell_type": "code",
   "execution_count": 19,
   "metadata": {},
   "outputs": [
    {
     "name": "stdout",
     "output_type": "stream",
     "text": [
      "GrIS area 1812254.1880229723\n",
      "0 No scaling  458.4009167368383\n",
      "1 No scaling  462.4390515302623\n",
      "2 No scaling  432.55567839602867\n",
      "3 No scaling  562.161717026494\n",
      "4 No scaling  738.1672515068551\n",
      "5 No scaling  547.8521244003495\n",
      "6 No scaling  608.1137916267261\n",
      "7 No scaling  591.4367751861136\n",
      "8 No scaling  395.9037093915319\n",
      "9 No scaling  343.8707834025432\n"
     ]
    }
   ],
   "source": [
    "print('GrIS area', (ic.values * glc_area_km2.values).sum() )\n",
    "\n",
    "for iyear in range(nyear):\n",
    "    smb1850_cism = get_cism_smb_from_timeseries(iyear)\n",
    "    \n",
    "    area_pixel = 16.\n",
    "    fac = fac_Gt * fac_km2 # mm/yr w.e. to Gt / yr\n",
    "    #print('No scaling ', (smb1850_cism.values * ic.values).sum() * area_pixel * fac )  #* rhow/rhoi\n",
    "    #print('rhow/rhoi ', (smb1850_cism.values * ic.values).sum() * area_pixel * fac * rhow/rhoi)\n",
    "    #print('rhoi/rhow ', (smb1850_cism.values * ic.values).sum() * area_pixel * fac * rhoi/rhow)\n",
    "\n",
    "    fac = fac_Gt * fac_km2 # mm/yr w.e. to Gt / yr\n",
    "    ismb_cism[iyear] = (smb1850_cism.values * ic.values * glc_area_km2.values).sum()  * fac\n",
    "    print(iyear, 'No scaling ',  ismb_cism[iyear])  #* rhow/rhoi"
   ]
  },
  {
   "cell_type": "code",
   "execution_count": 20,
   "metadata": {},
   "outputs": [
    {
     "data": {
      "text/plain": [
       "0.9205530074569696"
      ]
     },
     "execution_count": 20,
     "metadata": {},
     "output_type": "execute_result"
    }
   ],
   "source": [
    "(ismb_cism / ismb_clm).mean()"
   ]
  },
  {
   "cell_type": "code",
   "execution_count": 21,
   "metadata": {},
   "outputs": [
    {
     "data": {
      "text/plain": [
       "0.917"
      ]
     },
     "execution_count": 21,
     "metadata": {},
     "output_type": "execute_result"
    }
   ],
   "source": [
    "rhoi/rhow"
   ]
  },
  {
   "cell_type": "code",
   "execution_count": 22,
   "metadata": {},
   "outputs": [
    {
     "name": "stdout",
     "output_type": "stream",
     "text": [
      "GrIS area 1812254.1880229723\n",
      "0 scaling rhow/rhoi  499.8919484589295\n",
      "1 scaling rhow/rhoi  504.2955850929796\n",
      "2 scaling rhow/rhoi  471.7073919258764\n",
      "3 scaling rhow/rhoi  613.0444024280196\n",
      "4 scaling rhow/rhoi  804.9806450456435\n",
      "5 scaling rhow/rhoi  597.4396122141216\n",
      "6 scaling rhow/rhoi  663.1557160596794\n",
      "7 scaling rhow/rhoi  644.9692204864924\n",
      "8 scaling rhow/rhoi  431.73796007800644\n",
      "9 scaling rhow/rhoi  374.99540174759346\n"
     ]
    }
   ],
   "source": [
    "print('GrIS area', (ic.values * glc_area_km2.values).sum() )\n",
    "\n",
    "for iyear in range(10):\n",
    "    smb1850_cism = get_cism_smb_from_timeseries(iyear)\n",
    "    \n",
    "    area_pixel = 16.\n",
    "    fac = fac_Gt * fac_km2 # mm/yr w.e. to Gt / yr\n",
    "    #print('No scaling ', (smb1850_cism.values * ic.values).sum() * area_pixel * fac )  #* rhow/rhoi\n",
    "    #print('rhow/rhoi ', (smb1850_cism.values * ic.values).sum() * area_pixel * fac * rhow/rhoi)\n",
    "    #print('rhoi/rhow ', (smb1850_cism.values * ic.values).sum() * area_pixel * fac * rhoi/rhow)\n",
    "\n",
    "    fac = fac_Gt * fac_km2 # mm/yr w.e. to Gt / yr\n",
    "   \n",
    "    print(iyear, 'scaling rhow/rhoi ', (smb1850_cism.values * ic.values * glc_area_km2.values).sum()  * fac * rhow/rhoi)\n",
    "    #print('rhoi/rhow ', (smb1850_cism.values * ic.values * glc_area_km2.values).sum() * fac * rhoi/rhow)"
   ]
  },
  {
   "cell_type": "markdown",
   "metadata": {},
   "source": [
    "# Sandbox"
   ]
  },
  {
   "cell_type": "code",
   "execution_count": 23,
   "metadata": {},
   "outputs": [],
   "source": [
    "filename = \"/glade/u/home/lvank/work/projects/reconcile_smb/b.e21.BHIST.f09_g17.CMIP6-historical.001_normF.cpl.hi.1850-01-01-00000.nc\"\n",
    "\n",
    "ds = xr.open_dataset(filename)    "
   ]
  },
  {
   "cell_type": "code",
   "execution_count": 24,
   "metadata": {},
   "outputs": [
    {
     "data": {
      "text/plain": [
       "<matplotlib.collections.QuadMesh at 0x2ba4428cebe0>"
      ]
     },
     "execution_count": 24,
     "metadata": {},
     "output_type": "execute_result"
    },
    {
     "data": {
      "image/png": "[encoded data removed]",
      "text/plain": [
       "<Figure size 432x288 with 2 Axes>"
      ]
     },
     "metadata": {
      "needs_background": "light"
     },
     "output_type": "display_data"
    }
   ],
   "source": [
    "\n",
    "#ds['x2l_Sg_icemask_coupled_fluxes'].plot()\n",
    "#ds['x2l_Sg_icemask'].plot()\n",
    "ds['x2l_Sg_ice_covered03'].plot()\n",
    "\n",
    "#ds['g2x_Sg_icemask'].plot()"
   ]
  },
  {
   "cell_type": "code",
   "execution_count": 25,
   "metadata": {},
   "outputs": [
    {
     "data": {
      "text/plain": [
       "<xarray.DataArray 'x2l_Sg_ice_covered03' ()>\n",
       "array(0.)"
      ]
     },
     "execution_count": 25,
     "metadata": {},
     "output_type": "execute_result"
    }
   ],
   "source": [
    "np.max(ds['x2l_Sg_ice_covered03'])"
   ]
  },
  {
   "cell_type": "markdown",
   "metadata": {},
   "source": [
    "**UPDATE**: This has to do with the fact that this coupler history file is written at INITIALIZATION, where it does not contains values (yet). As Bill Sacks wrote:\n",
    "\n",
    "> Regarding the missing coupler history fields: these should be present and valid every time step (**but maybe not in initialization**), so I'm not sure why you're seeing this. Do you want to point me to a particular cpl hist file showing this issue?\n",
    "\n",
    "New notebook: `Reconcile icemask+ice_covered.ipynb`"
   ]
  },
  {
   "cell_type": "code",
   "execution_count": null,
   "metadata": {},
   "outputs": [],
   "source": []
  }
 ],
 "metadata": {
  "kernelspec": {
   "display_name": "Python 3",
   "language": "python",
   "name": "python3"
  },
  "language_info": {
   "codemirror_mode": {
    "name": "ipython",
    "version": 3
   },
   "file_extension": ".py",
   "mimetype": "text/x-python",
   "name": "python",
   "nbconvert_exporter": "python",
   "pygments_lexer": "ipython3",
   "version": "3.7.1"
  }
 },
 "nbformat": 4,
 "nbformat_minor": 2
}
