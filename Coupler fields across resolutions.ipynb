{
 "cells": [
  {
   "cell_type": "code",
   "execution_count": 2,
   "metadata": {},
   "outputs": [],
   "source": [
    "import numpy as np\n",
    "import math\n",
    "import sys,os\n",
    "import xarray as xr\n",
    "\n",
    "from netCDF4 import Dataset, default_fillvals\n",
    "from datetime import datetime\n",
    "\n",
    "import matplotlib.pyplot as plt"
   ]
  },
  {
   "cell_type": "code",
   "execution_count": 4,
   "metadata": {},
   "outputs": [
    {
     "name": "stdout",
     "output_type": "stream",
     "text": [
      "The autoreload extension is already loaded. To reload it, use:\n",
      "  %reload_ext autoreload\n"
     ]
    }
   ],
   "source": [
    "## Load utility library\n",
    "\n",
    "# IPython extension to reload modules before executing user code.\n",
    "# https://ipython.org/ipython-doc/3/config/extensions/autoreload.html\n",
    "%load_ext autoreload\n",
    "\n",
    "%aimport libutil\n",
    "\n",
    "# Reload all modules imported with %aimport every time before executing the Python code typed.\n",
    "%autoreload 1"
   ]
  },
  {
   "cell_type": "markdown",
   "metadata": {},
   "source": [
    "# 1. Coupler fields may be empty at initialization"
   ]
  },
  {
   "cell_type": "markdown",
   "metadata": {},
   "source": [
    "Leo wrote to BillS: \n",
    "> (2) There still is an unexplained difference between GrIS extent in FV1 and FV2. According to the documentation, this should not be the case: Over the CISM domain (typically Greenland in CESM2), CISM dictates glacier areas and topographic elevations, overriding the values on CLM’s surface dataset. I am unsure how to proceed at this one. It might have to do with me using a wrong definition of “ice extent” in CLM. In the coupler history snapshot that I have, all fields like “x2l_Sg_icemask” and “x2l_Sg_ice_covered01” are zeroed out, even though “g2x_Sg_ice_covered” is valid. I can imagine this is done because these fields are only relevant at the start of the simulation, when one-way coupled at least. Would you have suggestions on how to obtain these coupler fields? \n",
    "\n",
    "BillS wrote to Leo:\n",
    "\n",
    "> Regarding the missing coupler history fields: these should be present and valid every time step (**but maybe not in initialization**), so I'm not sure why you're seeing this. Do you want to point me to a particular cpl hist file showing this issue?\n",
    "\n",
    "First, I show that Bill is right here: "
   ]
  },
  {
   "cell_type": "code",
   "execution_count": 5,
   "metadata": {},
   "outputs": [],
   "source": [
    "datadir = \"/glade/u/home/lvank/work/projects/reconcile_smb/archive/b.e21.BHIST.f09_g17.CMIP6-historical.001_normF/\""
   ]
  },
  {
   "cell_type": "code",
   "execution_count": 6,
   "metadata": {},
   "outputs": [],
   "source": [
    "filename1 = \"cpl/hist/b.e21.BHIST.f09_g17.CMIP6-historical.001_normF.cpl.hi.1850-01-01-00000.nc\" # INITIALIZATION\n",
    "filename2 = \"cpl/hist/b.e21.BHIST.f09_g17.CMIP6-historical.001_normF.cpl.hi.1850-01-02-00000.nc\" # AFTER DAY 1"
   ]
  },
  {
   "cell_type": "code",
   "execution_count": 7,
   "metadata": {},
   "outputs": [],
   "source": [
    "ds1 = xr.open_dataset(os.path.join(datadir, filename1))\n",
    "ds2 = xr.open_dataset(os.path.join(datadir, filename2))"
   ]
  },
  {
   "cell_type": "code",
   "execution_count": 8,
   "metadata": {},
   "outputs": [
    {
     "name": "stdout",
     "output_type": "stream",
     "text": [
      "init: 1\n"
     ]
    }
   ],
   "source": [
    "icemask1 = ds1['x2l_Sg_icemask'][0].to_masked_array()\n",
    "print('init:', np.unique(icemask1).count())"
   ]
  },
  {
   "cell_type": "code",
   "execution_count": 9,
   "metadata": {},
   "outputs": [
    {
     "name": "stdout",
     "output_type": "stream",
     "text": [
      "after day 1: 348\n"
     ]
    }
   ],
   "source": [
    "icemask2 = ds2['x2l_Sg_icemask'][0].to_masked_array()\n",
    "print('after day 1:', np.unique(icemask2).count())"
   ]
  },
  {
   "cell_type": "markdown",
   "metadata": {},
   "source": [
    "# 2. Comparing coupler fields across different grid resolutions\n",
    "Using library functions for uniformity.\n",
    "\n",
    "## Ice sheet grid mask (`Sg_icemask`) \n",
    "In order of decreasing resolution"
   ]
  },
  {
   "cell_type": "code",
   "execution_count": 25,
   "metadata": {},
   "outputs": [
    {
     "name": "stdout",
     "output_type": "stream",
     "text": [
      "CPL-G, : 2191143.1616609427\n",
      "CPL-L, : 2188117.058060941\n"
     ]
    }
   ],
   "source": [
    "# FV 1\n",
    "libutil.print_CPL_icemask_areas(ds2)"
   ]
  },
  {
   "cell_type": "markdown",
   "metadata": {},
   "source": [
    "In FV1, icemask on the global side is **smaller**:"
   ]
  },
  {
   "cell_type": "code",
   "execution_count": 20,
   "metadata": {},
   "outputs": [
    {
     "data": {
      "text/plain": [
       "0.9986189401039604"
      ]
     },
     "execution_count": 20,
     "metadata": {},
     "output_type": "execute_result"
    }
   ],
   "source": [
    "2188117.1 / 2191143.2"
   ]
  },
  {
   "cell_type": "code",
   "execution_count": 23,
   "metadata": {},
   "outputs": [
    {
     "name": "stdout",
     "output_type": "stream",
     "text": [
      "CPL-G, : 2191143.1616609427\n",
      "CPL-L, : 2194129.3110708212\n"
     ]
    }
   ],
   "source": [
    "# FV2 coupler file\n",
    "filename = \"/gpfs/fs1/work/lvank/projects/reconcile_smb/archive/I2000_FV2_test/cpl/hist/I2000_FV2_test.cpl.hi.0001-01-02-00000.nc\"\n",
    "libutil.print_CPL_icemask_areas(xr.open_dataset(filename, decode_times=False))"
   ]
  },
  {
   "cell_type": "markdown",
   "metadata": {},
   "source": [
    "In FV2, icemask on the global side is **bigger**:"
   ]
  },
  {
   "cell_type": "code",
   "execution_count": 24,
   "metadata": {},
   "outputs": [
    {
     "data": {
      "text/plain": [
       "1.0013628045852958"
      ]
     },
     "execution_count": 24,
     "metadata": {},
     "output_type": "execute_result"
    }
   ],
   "source": [
    "2194129.3/2191143.2"
   ]
  },
  {
   "cell_type": "code",
   "execution_count": 21,
   "metadata": {},
   "outputs": [
    {
     "name": "stdout",
     "output_type": "stream",
     "text": [
      "CPL-G, : 2191143.1616609427\n",
      "CPL-L, : 2212744.636371046\n"
     ]
    }
   ],
   "source": [
    "# T31 coupler file\n",
    "filename = \"/glade/u/home/lvank/work/projects/reconcile_smb/archive/I2000_T31_test/cpl/hist/I2000_T31_test.cpl.ha.0002.nc\"\n",
    "libutil.print_CPL_icemask_areas(xr.open_dataset(filename, decode_times=False), \n",
    "                                fldname_xg='g2xavg_Sg_icemask', fldname_xl='x2lavg_Sg_icemask')"
   ]
  },
  {
   "cell_type": "markdown",
   "metadata": {},
   "source": [
    "In T31, icemask on the global side is **bigger**:"
   ]
  },
  {
   "cell_type": "code",
   "execution_count": 22,
   "metadata": {},
   "outputs": [
    {
     "data": {
      "text/plain": [
       "1.0098585067374874"
      ]
     },
     "execution_count": 22,
     "metadata": {},
     "output_type": "execute_result"
    }
   ],
   "source": [
    "2212744.6/2191143.2"
   ]
  },
  {
   "cell_type": "markdown",
   "metadata": {},
   "source": [
    "## Glacier cover (`Sg_ice_covered`)\n",
    "Using library function for uniformity"
   ]
  },
  {
   "cell_type": "code",
   "execution_count": 30,
   "metadata": {},
   "outputs": [
    {
     "name": "stdout",
     "output_type": "stream",
     "text": [
      "CPL-G, : 1812254.1880229723\n",
      "CPL-L, : 1908004.055097825\n"
     ]
    }
   ],
   "source": [
    "libutil.print_CPL_glaciercover_areas(ds2)"
   ]
  },
  {
   "cell_type": "code",
   "execution_count": 33,
   "metadata": {},
   "outputs": [
    {
     "name": "stdout",
     "output_type": "stream",
     "text": [
      "CPL-G, : 1812254.1880229723\n",
      "CPL-L, : 2037214.650930137\n"
     ]
    }
   ],
   "source": [
    "# FV2 coupler file\n",
    "filename = \"/gpfs/fs1/work/lvank/projects/reconcile_smb/archive/I2000_FV2_test/cpl/hist/I2000_FV2_test.cpl.hi.0001-01-02-00000.nc\"\n",
    "libutil.print_CPL_glaciercover_areas(xr.open_dataset(filename, decode_times=False))"
   ]
  },
  {
   "cell_type": "code",
   "execution_count": 32,
   "metadata": {},
   "outputs": [
    {
     "name": "stdout",
     "output_type": "stream",
     "text": [
      "CPL-G, : 1812254.1880229723\n",
      "CPL-L, : 2321410.824828118\n"
     ]
    }
   ],
   "source": [
    "# T31 coupler file\n",
    "filename = \"/glade/u/home/lvank/work/projects/reconcile_smb/archive/I2000_T31_test/cpl/hist/I2000_T31_test.cpl.ha.0002.nc\"\n",
    "libutil.print_CPL_glaciercover_areas(xr.open_dataset(filename, decode_times=False), \n",
    "                                fldname_xg='g2xavg_Sg_ice_covered', fldname_xl='x2lavg_Sg_ice_covered')"
   ]
  },
  {
   "cell_type": "code",
   "execution_count": null,
   "metadata": {},
   "outputs": [],
   "source": []
  }
 ],
 "metadata": {
  "kernelspec": {
   "display_name": "Python 3",
   "language": "python",
   "name": "python3"
  },
  "language_info": {
   "codemirror_mode": {
    "name": "ipython",
    "version": 3
   },
   "file_extension": ".py",
   "mimetype": "text/x-python",
   "name": "python",
   "nbconvert_exporter": "python",
   "pygments_lexer": "ipython3",
   "version": "3.7.1"
  }
 },
 "nbformat": 4,
 "nbformat_minor": 2
}
